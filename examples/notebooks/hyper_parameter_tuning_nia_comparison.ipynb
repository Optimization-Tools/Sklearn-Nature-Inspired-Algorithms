{
  "nbformat": 4,
  "nbformat_minor": 0,
  "metadata": {
    "kernelspec": {
      "display_name": "Python 3",
      "language": "python",
      "name": "python3"
    },
    "language_info": {
      "codemirror_mode": {
        "name": "ipython",
        "version": 3
      },
      "file_extension": ".py",
      "mimetype": "text/x-python",
      "name": "python",
      "nbconvert_exporter": "python",
      "pygments_lexer": "ipython3",
      "version": "3.7.4"
    },
    "colab": {
      "name": "hyper_parameter_tuning_nia_comparison.ipynb",
      "provenance": [],
      "collapsed_sections": []
    }
  },
  "cells": [
    {
      "cell_type": "code",
      "metadata": {
        "id": "uVFd6ndPX_0J",
        "colab_type": "code",
        "outputId": "ef8fd0b8-0643-43a6-8c77-6de730adf508",
        "colab": {
          "base_uri": "https://localhost:8080/",
          "height": 445
        }
      },
      "source": [
        "! pip install np\n",
        "! pip install sklearn\n",
        "! pip install sklearn_nature_inspired_algorithms==0.4.0"
      ],
      "execution_count": 0,
      "outputs": [
        {
          "output_type": "stream",
          "text": [
            "Requirement already satisfied: np in /usr/local/lib/python3.6/dist-packages (1.0.2)\n",
            "Requirement already satisfied: sklearn in /usr/local/lib/python3.6/dist-packages (0.0)\n",
            "Requirement already satisfied: scikit-learn in /usr/local/lib/python3.6/dist-packages (from sklearn) (0.22.2.post1)\n",
            "Requirement already satisfied: scipy>=0.17.0 in /usr/local/lib/python3.6/dist-packages (from scikit-learn->sklearn) (1.4.1)\n",
            "Requirement already satisfied: joblib>=0.11 in /usr/local/lib/python3.6/dist-packages (from scikit-learn->sklearn) (0.14.1)\n",
            "Requirement already satisfied: numpy>=1.11.0 in /usr/local/lib/python3.6/dist-packages (from scikit-learn->sklearn) (1.18.4)\n",
            "Requirement already satisfied: sklearn_nature_inspired_algorithms==0.4.0 in /usr/local/lib/python3.6/dist-packages (0.4.0)\n",
            "Requirement already satisfied: pandas<2.0.0,>=1.0.3 in /usr/local/lib/python3.6/dist-packages (from sklearn_nature_inspired_algorithms==0.4.0) (1.0.3)\n",
            "Requirement already satisfied: NiaPy==2.0.0rc10 in /usr/local/lib/python3.6/dist-packages (from sklearn_nature_inspired_algorithms==0.4.0) (2.0.0rc10)\n",
            "Requirement already satisfied: seaborn<0.11.0,>=0.10.1 in /usr/local/lib/python3.6/dist-packages (from sklearn_nature_inspired_algorithms==0.4.0) (0.10.1)\n",
            "Requirement already satisfied: scikit-learn<0.23.0,>=0.22.2 in /usr/local/lib/python3.6/dist-packages (from sklearn_nature_inspired_algorithms==0.4.0) (0.22.2.post1)\n",
            "Requirement already satisfied: toml<0.10,>=0.9 in /usr/local/lib/python3.6/dist-packages (from sklearn_nature_inspired_algorithms==0.4.0) (0.9.6)\n",
            "Requirement already satisfied: numpy<2.0.0,>=1.18.4 in /usr/local/lib/python3.6/dist-packages (from sklearn_nature_inspired_algorithms==0.4.0) (1.18.4)\n",
            "Requirement already satisfied: matplotlib<4.0.0,>=3.2.1 in /usr/local/lib/python3.6/dist-packages (from sklearn_nature_inspired_algorithms==0.4.0) (3.2.1)\n",
            "Requirement already satisfied: python-dateutil>=2.6.1 in /usr/local/lib/python3.6/dist-packages (from pandas<2.0.0,>=1.0.3->sklearn_nature_inspired_algorithms==0.4.0) (2.8.1)\n",
            "Requirement already satisfied: pytz>=2017.2 in /usr/local/lib/python3.6/dist-packages (from pandas<2.0.0,>=1.0.3->sklearn_nature_inspired_algorithms==0.4.0) (2018.9)\n",
            "Requirement already satisfied: scipy>=1.1.0 in /usr/local/lib/python3.6/dist-packages (from NiaPy==2.0.0rc10->sklearn_nature_inspired_algorithms==0.4.0) (1.4.1)\n",
            "Requirement already satisfied: xlsxwriter>=1.1.5 in /usr/local/lib/python3.6/dist-packages (from NiaPy==2.0.0rc10->sklearn_nature_inspired_algorithms==0.4.0) (1.2.8)\n",
            "Requirement already satisfied: enum34>=1.1.6 in /usr/local/lib/python3.6/dist-packages (from NiaPy==2.0.0rc10->sklearn_nature_inspired_algorithms==0.4.0) (1.1.10)\n",
            "Requirement already satisfied: joblib>=0.11 in /usr/local/lib/python3.6/dist-packages (from scikit-learn<0.23.0,>=0.22.2->sklearn_nature_inspired_algorithms==0.4.0) (0.14.1)\n",
            "Requirement already satisfied: pyparsing!=2.0.4,!=2.1.2,!=2.1.6,>=2.0.1 in /usr/local/lib/python3.6/dist-packages (from matplotlib<4.0.0,>=3.2.1->sklearn_nature_inspired_algorithms==0.4.0) (2.4.7)\n",
            "Requirement already satisfied: cycler>=0.10 in /usr/local/lib/python3.6/dist-packages (from matplotlib<4.0.0,>=3.2.1->sklearn_nature_inspired_algorithms==0.4.0) (0.10.0)\n",
            "Requirement already satisfied: kiwisolver>=1.0.1 in /usr/local/lib/python3.6/dist-packages (from matplotlib<4.0.0,>=3.2.1->sklearn_nature_inspired_algorithms==0.4.0) (1.2.0)\n",
            "Requirement already satisfied: six>=1.5 in /usr/local/lib/python3.6/dist-packages (from python-dateutil>=2.6.1->pandas<2.0.0,>=1.0.3->sklearn_nature_inspired_algorithms==0.4.0) (1.12.0)\n"
          ],
          "name": "stdout"
        }
      ]
    },
    {
      "cell_type": "code",
      "metadata": {
        "id": "iRq7N9veX67Z",
        "colab_type": "code",
        "colab": {}
      },
      "source": [
        "from sklearn.metrics import classification_report"
      ],
      "execution_count": 0,
      "outputs": []
    },
    {
      "cell_type": "markdown",
      "metadata": {
        "id": "iAIzDA0bX67c",
        "colab_type": "text"
      },
      "source": [
        "# Hyper-Parameter Tunning Using Nature Inspired Algorithms "
      ]
    },
    {
      "cell_type": "markdown",
      "metadata": {
        "id": "knd4AxpeX67c",
        "colab_type": "text"
      },
      "source": [
        "In this notebook we will compare the performance of several nature inspired search on hyper-parameter tunning task."
      ]
    },
    {
      "cell_type": "markdown",
      "metadata": {
        "id": "ztnf-m7KZDUg",
        "colab_type": "text"
      },
      "source": [
        "We will use [CoverType](https://archive.ics.uci.edu/ml/datasets/covertype) dataset which can be used for classification tasks.\n",
        "\n",
        "We will hyper-tune parameters of the RandomForestClassifier."
      ]
    },
    {
      "cell_type": "markdown",
      "metadata": {
        "id": "p5oNj0hSaP8D",
        "colab_type": "text"
      },
      "source": [
        "## Dataset\n",
        "\n",
        "Firstly, we will load the dataset, since it is really big (and we will make many experiments) we will train only on 1% of its size.\n",
        "\n"
      ]
    },
    {
      "cell_type": "code",
      "metadata": {
        "id": "_yRMWxuLX67d",
        "colab_type": "code",
        "outputId": "1538862a-b94b-4584-e059-9eea6dafbe1d",
        "colab": {
          "base_uri": "https://localhost:8080/",
          "height": 51
        }
      },
      "source": [
        "import random\n",
        "\n",
        "from sklearn.model_selection import train_test_split\n",
        "from sklearn.datasets import fetch_covtype\n",
        "\n",
        "X, y = fetch_covtype(download_if_missing=True, return_X_y=True)\n",
        "\n",
        "# shrink the dataset to the 1% of its original size\n",
        "rows_id = random.sample(range(0, len(X) - 1), (int)(len(X) * 0.01))\n",
        "\n",
        "X = X[rows_id, :]\n",
        "y = y[rows_id]\n",
        "\n",
        "X_train, X_test, y_train, y_test = train_test_split(X, y, test_size=0.2, random_state=42)\n",
        "\n",
        "print(f'train size - {len(X_train)}\\ntest size - {len(X_test)}')"
      ],
      "execution_count": 0,
      "outputs": [
        {
          "output_type": "stream",
          "text": [
            "train size - 4648\n",
            "test size - 1162\n"
          ],
          "name": "stdout"
        }
      ]
    },
    {
      "cell_type": "markdown",
      "metadata": {
        "id": "pTiifVL_X67f",
        "colab_type": "text"
      },
      "source": [
        "## Hyper-parameters\n",
        "\n",
        "Now, we will define the `param_grid` which we will be optimizing. "
      ]
    },
    {
      "cell_type": "code",
      "metadata": {
        "id": "UiHVmD2PX67g",
        "colab_type": "code",
        "colab": {}
      },
      "source": [
        "param_grid = { \n",
        "    'n_estimators': range(20, 400, 20), \n",
        "    'max_depth': range(5, 300, 20),\n",
        "    'min_samples_split': range(2, 50, 5),\n",
        "    'max_features': [\"auto\", \"sqrt\", \"log2\"],\n",
        "}"
      ],
      "execution_count": 0,
      "outputs": []
    },
    {
      "cell_type": "code",
      "metadata": {
        "id": "EOe-mgdIlMOj",
        "colab_type": "code",
        "outputId": "f4749bee-d309-45a0-f29e-9c3e072d3c9c",
        "colab": {
          "base_uri": "https://localhost:8080/",
          "height": 34
        }
      },
      "source": [
        "import numpy as np\n",
        "\n",
        "print(f'This is {np.multiply.reduce([len(param) for param in param_grid.values()])} combinations in total.')"
      ],
      "execution_count": 0,
      "outputs": [
        {
          "output_type": "stream",
          "text": [
            "This is 8550 combinations in total.\n"
          ],
          "name": "stdout"
        }
      ]
    },
    {
      "cell_type": "markdown",
      "metadata": {
        "id": "-dgwoKDQX68v",
        "colab_type": "text"
      },
      "source": [
        "### Optimization"
      ]
    },
    {
      "cell_type": "code",
      "metadata": {
        "id": "EWF9kIikghxo",
        "colab_type": "code",
        "colab": {}
      },
      "source": [
        "from sklearn.ensemble import RandomForestClassifier"
      ],
      "execution_count": 0,
      "outputs": []
    },
    {
      "cell_type": "code",
      "metadata": {
        "id": "GSg2ett_X68v",
        "colab_type": "code",
        "outputId": "1415d9f1-d6e7-485f-9875-088f3ba0ed7b",
        "colab": {
          "base_uri": "https://localhost:8080/",
          "height": 51
        }
      },
      "source": [
        "from sklearn_nature_inspired_algorithms.model_selection.nature_inspired_search_cv import NatureInspiredSearchCV\n",
        "from sklearn_nature_inspired_algorithms.helpers import score_by_generation_lineplot"
      ],
      "execution_count": 0,
      "outputs": [
        {
          "output_type": "stream",
          "text": [
            "/usr/local/lib/python3.6/dist-packages/statsmodels/tools/_testing.py:19: FutureWarning: pandas.util.testing is deprecated. Use the functions in the public API at pandas.testing instead.\n",
            "  import pandas.util.testing as tm\n"
          ],
          "name": "stderr"
        }
      ]
    },
    {
      "cell_type": "markdown",
      "metadata": {
        "id": "oiB61urmbC9R",
        "colab_type": "text"
      },
      "source": [
        "Now we will optimize hyper-parameters. We will compare the following algorithms:\n",
        "\n",
        "1.   Bat algorithm\n",
        "2.   Hybrid bat algorithm\n",
        "3.   Firefly algorithm\n",
        "\n",
        "All of our optimization runs, will use the following settings:\n",
        "\n",
        "*   `cv=5` - 5 fold cross-validation\n",
        "*   `max_n_gen=100` - we will optimize at max 100 generations\n",
        "*   `max_stagnating_gen=5` - the search algorithm will stop, if it does not find a better solution for 10 generations\n",
        "*   `population_size=50` - in each generation we will train (at max) 50 models, since we are searching a pretty large space, we need to have more models in one population \n",
        "*   `runs=3` - each algorithm will run 3 times\n",
        "\n",
        "\n",
        "\n"
      ]
    },
    {
      "cell_type": "markdown",
      "metadata": {
        "id": "uYPjHAq-bTAX",
        "colab_type": "text"
      },
      "source": [
        "### Bat Algorithm"
      ]
    },
    {
      "cell_type": "code",
      "metadata": {
        "id": "fHaK7n49X69g",
        "colab_type": "code",
        "outputId": "7b17c1ec-f54e-4e89-a500-dc8305b6c933",
        "colab": {
          "base_uri": "https://localhost:8080/",
          "height": 122
        }
      },
      "source": [
        "%%time\n",
        "\n",
        "clf = RandomForestClassifier(random_state=42)\n",
        "\n",
        "nia_search = NatureInspiredSearchCV(\n",
        "    clf,\n",
        "    param_grid,\n",
        "    cv=5,\n",
        "    verbose=0,\n",
        "    algorithm='ba',\n",
        "    population_size=50,\n",
        "    max_n_gen=100,\n",
        "    max_stagnating_gen=5,\n",
        "    runs=3,\n",
        "    n_jobs=-1,\n",
        "    scoring='f1_macro')\n",
        "\n",
        "nia_search.fit(X_train, y_train)"
      ],
      "execution_count": 0,
      "outputs": [
        {
          "output_type": "stream",
          "text": [
            "Fitting 5 folds for some of the 8550 candidates, which might total in 42750 fits\n"
          ],
          "name": "stdout"
        },
        {
          "output_type": "stream",
          "text": [
            "/usr/local/lib/python3.6/dist-packages/joblib/externals/loky/process_executor.py:706: UserWarning: A worker stopped while some jobs were given to the executor. This can be caused by a too short worker timeout or by a memory leak.\n",
            "  \"timeout or by a memory leak.\", UserWarning\n"
          ],
          "name": "stderr"
        },
        {
          "output_type": "stream",
          "text": [
            "CPU times: user 8.18 s, sys: 380 ms, total: 8.56 s\n",
            "Wall time: 33min 7s\n"
          ],
          "name": "stdout"
        }
      ]
    },
    {
      "cell_type": "code",
      "metadata": {
        "id": "1VTiD3A_dEqP",
        "colab_type": "code",
        "outputId": "c8a6b9bd-e7d0-4711-dbdd-5a10cad9bd35",
        "colab": {
          "base_uri": "https://localhost:8080/",
          "height": 296
        }
      },
      "source": [
        "score_by_generation_lineplot(nia_search)"
      ],
      "execution_count": 0,
      "outputs": [
        {
          "output_type": "execute_result",
          "data": {
            "text/plain": [
              "<matplotlib.axes._subplots.AxesSubplot at 0x7f8afbfbc198>"
            ]
          },
          "metadata": {
            "tags": []
          },
          "execution_count": 10
        },
        {
          "output_type": "display_data",
          "data": {
            "image/png": "[encoded data removed]",
            "text/plain": [
              "<Figure size 432x288 with 1 Axes>"
            ]
          },
          "metadata": {
            "tags": [],
            "needs_background": "light"
          }
        }
      ]
    },
    {
      "cell_type": "code",
      "metadata": {
        "id": "g9qTA5QzX69l",
        "colab_type": "code",
        "outputId": "5d140d3f-9311-471b-d216-442ab88976f8",
        "colab": {
          "base_uri": "https://localhost:8080/",
          "height": 85
        }
      },
      "source": [
        "nia_search.best_params_"
      ],
      "execution_count": 0,
      "outputs": [
        {
          "output_type": "execute_result",
          "data": {
            "text/plain": [
              "{'max_depth': 225,\n",
              " 'max_features': 'auto',\n",
              " 'min_samples_split': 2,\n",
              " 'n_estimators': 120}"
            ]
          },
          "metadata": {
            "tags": []
          },
          "execution_count": 11
        }
      ]
    },
    {
      "cell_type": "code",
      "metadata": {
        "id": "akeXCPiGX69q",
        "colab_type": "code",
        "outputId": "b41acb29-5720-4326-f999-1ad7bcaae126",
        "colab": {
          "base_uri": "https://localhost:8080/",
          "height": 255
        }
      },
      "source": [
        "clf = RandomForestClassifier(**nia_search.best_params_, random_state=42)\n",
        "\n",
        "clf.fit(X_train, y_train)\n",
        "\n",
        "y_pred = clf.predict(X_test)\n",
        "\n",
        "print(classification_report(y_test, y_pred, digits=4))"
      ],
      "execution_count": 0,
      "outputs": [
        {
          "output_type": "stream",
          "text": [
            "              precision    recall  f1-score   support\n",
            "\n",
            "           1     0.7536    0.7518    0.7527       415\n",
            "           2     0.7787    0.8397    0.8080       574\n",
            "           3     0.6951    0.7808    0.7355        73\n",
            "           4     0.0000    0.0000    0.0000         6\n",
            "           5     0.8000    0.2353    0.3636        17\n",
            "           6     0.6316    0.3158    0.4211        38\n",
            "           7     0.9545    0.5385    0.6885        39\n",
            "\n",
            "    accuracy                         0.7642      1162\n",
            "   macro avg     0.6591    0.4946    0.5385      1162\n",
            "weighted avg     0.7619    0.7642    0.7564      1162\n",
            "\n"
          ],
          "name": "stdout"
        }
      ]
    },
    {
      "cell_type": "markdown",
      "metadata": {
        "id": "daB-cBiddcXj",
        "colab_type": "text"
      },
      "source": [
        "### Hybrid Bat algorithm"
      ]
    },
    {
      "cell_type": "code",
      "metadata": {
        "id": "JyuJrP_QdX4P",
        "colab_type": "code",
        "outputId": "25fd1232-7aac-4fd9-e295-3e4f2872b60f",
        "colab": {
          "base_uri": "https://localhost:8080/",
          "height": 68
        }
      },
      "source": [
        "%%time\n",
        "\n",
        "clf = RandomForestClassifier(random_state=42)\n",
        "\n",
        "nia_search = NatureInspiredSearchCV(\n",
        "    clf,\n",
        "    param_grid,\n",
        "    cv=5,\n",
        "    verbose=0,\n",
        "    algorithm='hba',\n",
        "    population_size=50,\n",
        "    max_n_gen=100,\n",
        "    max_stagnating_gen=5,\n",
        "    runs=3,\n",
        "    n_jobs=-1,\n",
        "    scoring='f1_macro')\n",
        "\n",
        "nia_search.fit(X_train, y_train)"
      ],
      "execution_count": 0,
      "outputs": [
        {
          "output_type": "stream",
          "text": [
            "Fitting 5 folds for some of the 8550 candidates, which might total in 42750 fits\n",
            "CPU times: user 18.3 s, sys: 621 ms, total: 18.9 s\n",
            "Wall time: 1h 6min 38s\n"
          ],
          "name": "stdout"
        }
      ]
    },
    {
      "cell_type": "code",
      "metadata": {
        "id": "VDIHMSdyd27r",
        "colab_type": "code",
        "outputId": "f3241a16-3296-4768-fa47-27729583ca35",
        "colab": {
          "base_uri": "https://localhost:8080/",
          "height": 296
        }
      },
      "source": [
        "score_by_generation_lineplot(nia_search)"
      ],
      "execution_count": 0,
      "outputs": [
        {
          "output_type": "execute_result",
          "data": {
            "text/plain": [
              "<matplotlib.axes._subplots.AxesSubplot at 0x7f8afbecd828>"
            ]
          },
          "metadata": {
            "tags": []
          },
          "execution_count": 14
        },
        {
          "output_type": "display_data",
          "data": {
            "image/png": "[encoded data removed]",
            "text/plain": [
              "<Figure size 432x288 with 1 Axes>"
            ]
          },
          "metadata": {
            "tags": [],
            "needs_background": "light"
          }
        }
      ]
    },
    {
      "cell_type": "code",
      "metadata": {
        "id": "62NeHFefd4wg",
        "colab_type": "code",
        "outputId": "3d6f5db4-fa0e-4cee-e285-fbaac5bdc0a8",
        "colab": {
          "base_uri": "https://localhost:8080/",
          "height": 85
        }
      },
      "source": [
        "nia_search.best_params_"
      ],
      "execution_count": 0,
      "outputs": [
        {
          "output_type": "execute_result",
          "data": {
            "text/plain": [
              "{'max_depth': 85,\n",
              " 'max_features': 'auto',\n",
              " 'min_samples_split': 2,\n",
              " 'n_estimators': 120}"
            ]
          },
          "metadata": {
            "tags": []
          },
          "execution_count": 15
        }
      ]
    },
    {
      "cell_type": "code",
      "metadata": {
        "id": "utHhS5fVd6lf",
        "colab_type": "code",
        "outputId": "e3b45e83-e457-4ce2-cf26-f33994de6613",
        "colab": {
          "base_uri": "https://localhost:8080/",
          "height": 255
        }
      },
      "source": [
        "clf = RandomForestClassifier(**nia_search.best_params_, random_state=42)\n",
        "\n",
        "clf.fit(X_train, y_train)\n",
        "\n",
        "y_pred = clf.predict(X_test)\n",
        "\n",
        "print(classification_report(y_test, y_pred, digits=4))"
      ],
      "execution_count": 0,
      "outputs": [
        {
          "output_type": "stream",
          "text": [
            "              precision    recall  f1-score   support\n",
            "\n",
            "           1     0.7536    0.7518    0.7527       415\n",
            "           2     0.7787    0.8397    0.8080       574\n",
            "           3     0.6951    0.7808    0.7355        73\n",
            "           4     0.0000    0.0000    0.0000         6\n",
            "           5     0.8000    0.2353    0.3636        17\n",
            "           6     0.6316    0.3158    0.4211        38\n",
            "           7     0.9545    0.5385    0.6885        39\n",
            "\n",
            "    accuracy                         0.7642      1162\n",
            "   macro avg     0.6591    0.4946    0.5385      1162\n",
            "weighted avg     0.7619    0.7642    0.7564      1162\n",
            "\n"
          ],
          "name": "stdout"
        }
      ]
    },
    {
      "cell_type": "markdown",
      "metadata": {
        "id": "_XN0SEtwdd7G",
        "colab_type": "text"
      },
      "source": [
        "### Firefly Algorithm"
      ]
    },
    {
      "cell_type": "code",
      "metadata": {
        "id": "bIp--WxhdYc7",
        "colab_type": "code",
        "outputId": "b1e456da-be05-486f-b3d9-de7cff42b64a",
        "colab": {
          "base_uri": "https://localhost:8080/",
          "height": 68
        }
      },
      "source": [
        "%%time\n",
        "\n",
        "clf = RandomForestClassifier(random_state=42)\n",
        "\n",
        "nia_search = NatureInspiredSearchCV(\n",
        "    clf,\n",
        "    param_grid,\n",
        "    cv=5,\n",
        "    verbose=0,\n",
        "    algorithm='fa',\n",
        "    population_size=50,\n",
        "    max_n_gen=100,\n",
        "    max_stagnating_gen=5,\n",
        "    runs=3,\n",
        "    n_jobs=-1,\n",
        "    scoring='f1_macro')\n",
        "\n",
        "nia_search.fit(X_train, y_train)"
      ],
      "execution_count": 0,
      "outputs": [
        {
          "output_type": "stream",
          "text": [
            "Fitting 5 folds for some of the 8550 candidates, which might total in 42750 fits\n",
            "CPU times: user 30.3 s, sys: 862 ms, total: 31.2 s\n",
            "Wall time: 1h 44min 44s\n"
          ],
          "name": "stdout"
        }
      ]
    },
    {
      "cell_type": "code",
      "metadata": {
        "id": "zPjk02xRd9yW",
        "colab_type": "code",
        "colab": {
          "base_uri": "https://localhost:8080/",
          "height": 296
        },
        "outputId": "fbd11584-0330-4026-a56c-452c4b4e6413"
      },
      "source": [
        "score_by_generation_lineplot(nia_search)"
      ],
      "execution_count": 18,
      "outputs": [
        {
          "output_type": "execute_result",
          "data": {
            "text/plain": [
              "<matplotlib.axes._subplots.AxesSubplot at 0x7f8afbf265c0>"
            ]
          },
          "metadata": {
            "tags": []
          },
          "execution_count": 18
        },
        {
          "output_type": "display_data",
          "data": {
            "image/png": "[encoded data removed]",
            "text/plain": [
              "<Figure size 432x288 with 1 Axes>"
            ]
          },
          "metadata": {
            "tags": [],
            "needs_background": "light"
          }
        }
      ]
    },
    {
      "cell_type": "code",
      "metadata": {
        "id": "xx2WKd2jd_CS",
        "colab_type": "code",
        "colab": {
          "base_uri": "https://localhost:8080/",
          "height": 85
        },
        "outputId": "e712371f-4166-438b-9c25-10c2db30d7fe"
      },
      "source": [
        "nia_search.best_params_"
      ],
      "execution_count": 19,
      "outputs": [
        {
          "output_type": "execute_result",
          "data": {
            "text/plain": [
              "{'max_depth': 65,\n",
              " 'max_features': 'sqrt',\n",
              " 'min_samples_split': 2,\n",
              " 'n_estimators': 120}"
            ]
          },
          "metadata": {
            "tags": []
          },
          "execution_count": 19
        }
      ]
    },
    {
      "cell_type": "code",
      "metadata": {
        "id": "zqGgxwGjeAYY",
        "colab_type": "code",
        "outputId": "5aa49040-50f2-47e4-f274-47be766e626f",
        "colab": {
          "base_uri": "https://localhost:8080/",
          "height": 255
        }
      },
      "source": [
        "clf = RandomForestClassifier(**nia_search.best_params_, random_state=42)\n",
        "\n",
        "clf.fit(X_train, y_train)\n",
        "\n",
        "y_pred = clf.predict(X_test)\n",
        "\n",
        "print(classification_report(y_test, y_pred, digits=4))"
      ],
      "execution_count": 28,
      "outputs": [
        {
          "output_type": "stream",
          "text": [
            "              precision    recall  f1-score   support\n",
            "\n",
            "           1     0.7536    0.7518    0.7527       415\n",
            "           2     0.7787    0.8397    0.8080       574\n",
            "           3     0.6951    0.7808    0.7355        73\n",
            "           4     0.0000    0.0000    0.0000         6\n",
            "           5     0.8000    0.2353    0.3636        17\n",
            "           6     0.6316    0.3158    0.4211        38\n",
            "           7     0.9545    0.5385    0.6885        39\n",
            "\n",
            "    accuracy                         0.7642      1162\n",
            "   macro avg     0.6591    0.4946    0.5385      1162\n",
            "weighted avg     0.7619    0.7642    0.7564      1162\n",
            "\n"
          ],
          "name": "stdout"
        }
      ]
    },
    {
      "cell_type": "markdown",
      "metadata": {
        "id": "YzOzZAhBey-T",
        "colab_type": "text"
      },
      "source": [
        "## Results\n",
        "\n",
        "| Algorithm | F1 Macro score  | Search duration |\n",
        "| ------------ |-------------:|-------------:|\n",
        "| Bat Algorithm | 0.5385 | 33min 7s |\n",
        "| Hybrid Bat Algorithm | 0.5385 | 1h 6min 38s |\n",
        "| Firefly Algorithm | 0.5385 | 1h 44min 44s |\n"
      ]
    }
  ]
}