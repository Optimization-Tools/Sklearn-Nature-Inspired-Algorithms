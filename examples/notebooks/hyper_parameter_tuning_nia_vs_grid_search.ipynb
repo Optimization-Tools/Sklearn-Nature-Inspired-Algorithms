{
  "nbformat": 4,
  "nbformat_minor": 0,
  "metadata": {
    "kernelspec": {
      "display_name": "Python 3",
      "language": "python",
      "name": "python3"
    },
    "language_info": {
      "codemirror_mode": {
        "name": "ipython",
        "version": 3
      },
      "file_extension": ".py",
      "mimetype": "text/x-python",
      "name": "python",
      "nbconvert_exporter": "python",
      "pygments_lexer": "ipython3",
      "version": "3.7.4"
    },
    "colab": {
      "name": "hyper_parameter_tuning_nia_vs_grid_search.ipynb",
      "provenance": [],
      "collapsed_sections": []
    }
  },
  "cells": [
    {
      "cell_type": "code",
      "metadata": {
        "id": "0YPcgqJMi8hq",
        "colab_type": "code",
        "outputId": "f7be614f-e4dc-4785-b628-9cc95703e36b",
        "colab": {
          "base_uri": "https://localhost:8080/",
          "height": 445
        }
      },
      "source": [
        "! pip install np\n",
        "! pip install sklearn\n",
        "! pip install sklearn_nature_inspired_algorithms==0.4.0"
      ],
      "execution_count": 1,
      "outputs": [
        {
          "output_type": "stream",
          "text": [
            "Requirement already satisfied: np in /usr/local/lib/python3.6/dist-packages (1.0.2)\n",
            "Requirement already satisfied: sklearn in /usr/local/lib/python3.6/dist-packages (0.0)\n",
            "Requirement already satisfied: scikit-learn in /usr/local/lib/python3.6/dist-packages (from sklearn) (0.22.2.post1)\n",
            "Requirement already satisfied: joblib>=0.11 in /usr/local/lib/python3.6/dist-packages (from scikit-learn->sklearn) (0.14.1)\n",
            "Requirement already satisfied: numpy>=1.11.0 in /usr/local/lib/python3.6/dist-packages (from scikit-learn->sklearn) (1.18.4)\n",
            "Requirement already satisfied: scipy>=0.17.0 in /usr/local/lib/python3.6/dist-packages (from scikit-learn->sklearn) (1.4.1)\n",
            "Requirement already satisfied: sklearn_nature_inspired_algorithms==0.4.0 in /usr/local/lib/python3.6/dist-packages (0.4.0)\n",
            "Requirement already satisfied: NiaPy==2.0.0rc10 in /usr/local/lib/python3.6/dist-packages (from sklearn_nature_inspired_algorithms==0.4.0) (2.0.0rc10)\n",
            "Requirement already satisfied: matplotlib<4.0.0,>=3.2.1 in /usr/local/lib/python3.6/dist-packages (from sklearn_nature_inspired_algorithms==0.4.0) (3.2.1)\n",
            "Requirement already satisfied: seaborn<0.11.0,>=0.10.1 in /usr/local/lib/python3.6/dist-packages (from sklearn_nature_inspired_algorithms==0.4.0) (0.10.1)\n",
            "Requirement already satisfied: pandas<2.0.0,>=1.0.3 in /usr/local/lib/python3.6/dist-packages (from sklearn_nature_inspired_algorithms==0.4.0) (1.0.3)\n",
            "Requirement already satisfied: numpy<2.0.0,>=1.18.4 in /usr/local/lib/python3.6/dist-packages (from sklearn_nature_inspired_algorithms==0.4.0) (1.18.4)\n",
            "Requirement already satisfied: scikit-learn<0.23.0,>=0.22.2 in /usr/local/lib/python3.6/dist-packages (from sklearn_nature_inspired_algorithms==0.4.0) (0.22.2.post1)\n",
            "Requirement already satisfied: toml<0.10,>=0.9 in /usr/local/lib/python3.6/dist-packages (from sklearn_nature_inspired_algorithms==0.4.0) (0.9.6)\n",
            "Requirement already satisfied: enum34>=1.1.6 in /usr/local/lib/python3.6/dist-packages (from NiaPy==2.0.0rc10->sklearn_nature_inspired_algorithms==0.4.0) (1.1.10)\n",
            "Requirement already satisfied: xlsxwriter>=1.1.5 in /usr/local/lib/python3.6/dist-packages (from NiaPy==2.0.0rc10->sklearn_nature_inspired_algorithms==0.4.0) (1.2.8)\n",
            "Requirement already satisfied: scipy>=1.1.0 in /usr/local/lib/python3.6/dist-packages (from NiaPy==2.0.0rc10->sklearn_nature_inspired_algorithms==0.4.0) (1.4.1)\n",
            "Requirement already satisfied: kiwisolver>=1.0.1 in /usr/local/lib/python3.6/dist-packages (from matplotlib<4.0.0,>=3.2.1->sklearn_nature_inspired_algorithms==0.4.0) (1.2.0)\n",
            "Requirement already satisfied: pyparsing!=2.0.4,!=2.1.2,!=2.1.6,>=2.0.1 in /usr/local/lib/python3.6/dist-packages (from matplotlib<4.0.0,>=3.2.1->sklearn_nature_inspired_algorithms==0.4.0) (2.4.7)\n",
            "Requirement already satisfied: cycler>=0.10 in /usr/local/lib/python3.6/dist-packages (from matplotlib<4.0.0,>=3.2.1->sklearn_nature_inspired_algorithms==0.4.0) (0.10.0)\n",
            "Requirement already satisfied: python-dateutil>=2.1 in /usr/local/lib/python3.6/dist-packages (from matplotlib<4.0.0,>=3.2.1->sklearn_nature_inspired_algorithms==0.4.0) (2.8.1)\n",
            "Requirement already satisfied: pytz>=2017.2 in /usr/local/lib/python3.6/dist-packages (from pandas<2.0.0,>=1.0.3->sklearn_nature_inspired_algorithms==0.4.0) (2018.9)\n",
            "Requirement already satisfied: joblib>=0.11 in /usr/local/lib/python3.6/dist-packages (from scikit-learn<0.23.0,>=0.22.2->sklearn_nature_inspired_algorithms==0.4.0) (0.14.1)\n",
            "Requirement already satisfied: six in /usr/local/lib/python3.6/dist-packages (from cycler>=0.10->matplotlib<4.0.0,>=3.2.1->sklearn_nature_inspired_algorithms==0.4.0) (1.12.0)\n"
          ],
          "name": "stdout"
        }
      ]
    },
    {
      "cell_type": "code",
      "metadata": {
        "id": "T-Lp_tBcYjT1",
        "colab_type": "code",
        "colab": {}
      },
      "source": [
        "from sklearn.metrics import classification_report"
      ],
      "execution_count": 0,
      "outputs": []
    },
    {
      "cell_type": "markdown",
      "metadata": {
        "id": "113BlJ4Gi8h7",
        "colab_type": "text"
      },
      "source": [
        "# Hyper-Parameter Tunning Using Nature Inspired Algorithms "
      ]
    },
    {
      "cell_type": "markdown",
      "metadata": {
        "id": "JGLEd9SLknJw",
        "colab_type": "text"
      },
      "source": [
        "In this notebook we will compare the performance of nature inspired search with grid search."
      ]
    },
    {
      "cell_type": "markdown",
      "metadata": {
        "id": "fhAEHysRi8h8",
        "colab_type": "text"
      },
      "source": [
        "We will use [CoverType](https://archive.ics.uci.edu/ml/datasets/covertype) dataset which can be used for classification tasks.\n",
        "\n",
        "We will hyper-tune parameters of the RandomForestClassifier."
      ]
    },
    {
      "cell_type": "markdown",
      "metadata": {
        "id": "I1pZrXm8kzzV",
        "colab_type": "text"
      },
      "source": [
        "## Dataset\n",
        "\n",
        "Firstly, we will load the dataset, since it is really big (and we will make many experiments) we will train only on 1% of its size."
      ]
    },
    {
      "cell_type": "code",
      "metadata": {
        "id": "jz2ZwNNpi8h8",
        "colab_type": "code",
        "outputId": "cae74d18-c3cf-4ed9-fcac-4ea8663035ab",
        "colab": {
          "base_uri": "https://localhost:8080/",
          "height": 68
        }
      },
      "source": [
        "import random\n",
        "\n",
        "from sklearn.model_selection import train_test_split\n",
        "from sklearn.datasets import fetch_covtype\n",
        "\n",
        "X, y = fetch_covtype(download_if_missing=True, return_X_y=True)\n",
        "\n",
        "# shrink the dataset to the 1% of its original size\n",
        "rows_id = random.sample(range(0, len(X) - 1), (int)(len(X) * 0.01))\n",
        "\n",
        "X = X[rows_id, :]\n",
        "y = y[rows_id]\n",
        "\n",
        "X_train, X_test, y_train, y_test = train_test_split(X, y, test_size=0.2, random_state=42)\n",
        "\n",
        "print(f'train size - {len(X_train)}\\ntest size - {len(X_test)}')"
      ],
      "execution_count": 3,
      "outputs": [
        {
          "output_type": "stream",
          "text": [
            "Downloading https://ndownloader.figshare.com/files/5976039\n"
          ],
          "name": "stderr"
        },
        {
          "output_type": "stream",
          "text": [
            "train size - 4648\n",
            "test size - 1162\n"
          ],
          "name": "stdout"
        }
      ]
    },
    {
      "cell_type": "markdown",
      "metadata": {
        "id": "HBpCq-axk5Vo",
        "colab_type": "text"
      },
      "source": [
        "## Hyper-parameters\n",
        "\n",
        "Now, we will pick the parameters which we will be optimizing. "
      ]
    },
    {
      "cell_type": "code",
      "metadata": {
        "id": "ZiRiufWWi8iA",
        "colab_type": "code",
        "colab": {}
      },
      "source": [
        "param_grid = { \n",
        "    'n_estimators': range(100, 300, 20), \n",
        "    'max_depth': [2, 4, 6, 8, 10, 20, 30, 40, 50, 100, 200, 300, 400], \n",
        "    'min_samples_split': range(2, 10, 2),\n",
        "    'max_features': [\"auto\", \"sqrt\", \"log2\"]\n",
        "}"
      ],
      "execution_count": 0,
      "outputs": []
    },
    {
      "cell_type": "code",
      "metadata": {
        "id": "vLQv9Vm5mrZM",
        "colab_type": "code",
        "colab": {
          "base_uri": "https://localhost:8080/",
          "height": 34
        },
        "outputId": "19464049-0a2c-480e-c68e-1fb933151088"
      },
      "source": [
        "import numpy as np\n",
        "\n",
        "print(f'This is {np.multiply.reduce([len(param) for param in param_grid.values()])} combinations in total.')"
      ],
      "execution_count": 5,
      "outputs": [
        {
          "output_type": "stream",
          "text": [
            "This is 1560 combinations in total.\n"
          ],
          "name": "stdout"
        }
      ]
    },
    {
      "cell_type": "markdown",
      "metadata": {
        "id": "QmHBiLHhnTCi",
        "colab_type": "text"
      },
      "source": [
        "## Optimization"
      ]
    },
    {
      "cell_type": "markdown",
      "metadata": {
        "id": "XYBPWpSNi8iD",
        "colab_type": "text"
      },
      "source": [
        "### GridSearch"
      ]
    },
    {
      "cell_type": "code",
      "metadata": {
        "id": "mymLiE7ni8iF",
        "colab_type": "code",
        "colab": {}
      },
      "source": [
        "from sklearn.model_selection import GridSearchCV\n",
        "from sklearn.calibration import CalibratedClassifierCV\n",
        "from sklearn.ensemble import RandomForestClassifier"
      ],
      "execution_count": 0,
      "outputs": []
    },
    {
      "cell_type": "code",
      "metadata": {
        "id": "qaHJPe1Hi8iH",
        "colab_type": "code",
        "colab": {
          "base_uri": "https://localhost:8080/",
          "height": 102
        },
        "outputId": "ff36c8b3-390a-4762-d886-745fbc98dd51"
      },
      "source": [
        "%%time\n",
        "\n",
        "clf = RandomForestClassifier(random_state=42)\n",
        "\n",
        "grid_search = GridSearchCV(clf, param_grid, cv=5, verbose=1, scoring='f1_macro')\n",
        "grid_search.fit(X_train, y_train)"
      ],
      "execution_count": 7,
      "outputs": [
        {
          "output_type": "stream",
          "text": [
            "Fitting 5 folds for each of 1560 candidates, totalling 7800 fits\n"
          ],
          "name": "stdout"
        },
        {
          "output_type": "stream",
          "text": [
            "[Parallel(n_jobs=1)]: Using backend SequentialBackend with 1 concurrent workers.\n",
            "[Parallel(n_jobs=1)]: Done 7800 out of 7800 | elapsed: 138.1min finished\n"
          ],
          "name": "stderr"
        },
        {
          "output_type": "stream",
          "text": [
            "CPU times: user 2h 17min 48s, sys: 15.2 s, total: 2h 18min 3s\n",
            "Wall time: 2h 18min 9s\n"
          ],
          "name": "stdout"
        }
      ]
    },
    {
      "cell_type": "code",
      "metadata": {
        "id": "C7KQ2E1Qi8iK",
        "colab_type": "code",
        "colab": {
          "base_uri": "https://localhost:8080/",
          "height": 85
        },
        "outputId": "adf83b17-f676-4d00-b19a-c9165bd683c5"
      },
      "source": [
        "grid_search.best_params_"
      ],
      "execution_count": 8,
      "outputs": [
        {
          "output_type": "execute_result",
          "data": {
            "text/plain": [
              "{'max_depth': 40,\n",
              " 'max_features': 'auto',\n",
              " 'min_samples_split': 2,\n",
              " 'n_estimators': 220}"
            ]
          },
          "metadata": {
            "tags": []
          },
          "execution_count": 8
        }
      ]
    },
    {
      "cell_type": "code",
      "metadata": {
        "id": "mLwZNcAai8iM",
        "colab_type": "code",
        "colab": {
          "base_uri": "https://localhost:8080/",
          "height": 255
        },
        "outputId": "6a894458-fcd4-4116-e22a-d3c0826c9f81"
      },
      "source": [
        "clf = RandomForestClassifier(**grid_search.best_params_, random_state=42)\n",
        "\n",
        "clf.fit(X_train, y_train)\n",
        "\n",
        "y_pred = clf.predict(X_test)\n",
        "\n",
        "print(classification_report(y_test, y_pred, digits=4))"
      ],
      "execution_count": 9,
      "outputs": [
        {
          "output_type": "stream",
          "text": [
            "              precision    recall  f1-score   support\n",
            "\n",
            "           1     0.7946    0.7665    0.7803       424\n",
            "           2     0.8091    0.8711    0.8389       574\n",
            "           3     0.7340    0.8625    0.7931        80\n",
            "           4     1.0000    0.1429    0.2500         7\n",
            "           5     0.5000    0.0909    0.1538        11\n",
            "           6     0.6667    0.3077    0.4211        26\n",
            "           7     0.8462    0.5500    0.6667        40\n",
            "\n",
            "    accuracy                         0.7969      1162\n",
            "   macro avg     0.7644    0.5131    0.5577      1162\n",
            "weighted avg     0.7949    0.7969    0.7891      1162\n",
            "\n"
          ],
          "name": "stdout"
        }
      ]
    },
    {
      "cell_type": "markdown",
      "metadata": {
        "id": "4wHxX6jQi8iP",
        "colab_type": "text"
      },
      "source": [
        "### NatureInspiredSearch"
      ]
    },
    {
      "cell_type": "code",
      "metadata": {
        "id": "cY5DZ5a0i8iQ",
        "colab_type": "code",
        "colab": {}
      },
      "source": [
        "from sklearn_nature_inspired_algorithms.model_selection.nature_inspired_search_cv import NatureInspiredSearchCV"
      ],
      "execution_count": 0,
      "outputs": []
    },
    {
      "cell_type": "code",
      "metadata": {
        "id": "H-rGS_aNi8iS",
        "colab_type": "code",
        "colab": {
          "base_uri": "https://localhost:8080/",
          "height": 68
        },
        "outputId": "ede13211-c646-4cdd-9a7c-8e322a60aa5f"
      },
      "source": [
        "%%time\n",
        "\n",
        "clf = RandomForestClassifier(random_state=42)\n",
        "\n",
        "nia_search = NatureInspiredSearchCV(\n",
        "    clf,\n",
        "    param_grid,\n",
        "    cv=5,\n",
        "    verbose=0,\n",
        "    algorithm='hba',\n",
        "    population_size=25,\n",
        "    max_n_gen=100,\n",
        "    max_stagnating_gen=5,\n",
        "    runs=5,\n",
        "    scoring='f1_macro'\n",
        "  )\n",
        "\n",
        "nia_search.fit(X_train, y_train)"
      ],
      "execution_count": 11,
      "outputs": [
        {
          "output_type": "stream",
          "text": [
            "Fitting 5 folds for some of the 1560 candidates, which might total in 7800 fits\n",
            "CPU times: user 49min 41s, sys: 4.87 s, total: 49min 46s\n",
            "Wall time: 49min 47s\n"
          ],
          "name": "stdout"
        }
      ]
    },
    {
      "cell_type": "code",
      "metadata": {
        "id": "PV0zu12CvnNA",
        "colab_type": "code",
        "colab": {
          "base_uri": "https://localhost:8080/",
          "height": 296
        },
        "outputId": "02ed25f3-8023-4721-b36f-b8f627d02983"
      },
      "source": [
        "from sklearn_nature_inspired_algorithms.helpers import score_by_generation_lineplot\n",
        "\n",
        "score_by_generation_lineplot(nia_search)"
      ],
      "execution_count": 13,
      "outputs": [
        {
          "output_type": "execute_result",
          "data": {
            "text/plain": [
              "<matplotlib.axes._subplots.AxesSubplot at 0x7fb41c82c1d0>"
            ]
          },
          "metadata": {
            "tags": []
          },
          "execution_count": 13
        },
        {
          "output_type": "display_data",
          "data": {
            "image/png": "[encoded data removed]",
            "text/plain": [
              "<Figure size 432x288 with 1 Axes>"
            ]
          },
          "metadata": {
            "tags": [],
            "needs_background": "light"
          }
        }
      ]
    },
    {
      "cell_type": "code",
      "metadata": {
        "id": "WVg8iArSi8iV",
        "colab_type": "code",
        "colab": {
          "base_uri": "https://localhost:8080/",
          "height": 85
        },
        "outputId": "522e2f28-8dd4-445f-c76e-e19a38908ddd"
      },
      "source": [
        "nia_search.best_params_"
      ],
      "execution_count": 14,
      "outputs": [
        {
          "output_type": "execute_result",
          "data": {
            "text/plain": [
              "{'max_depth': 40,\n",
              " 'max_features': 'auto',\n",
              " 'min_samples_split': 2,\n",
              " 'n_estimators': 220}"
            ]
          },
          "metadata": {
            "tags": []
          },
          "execution_count": 14
        }
      ]
    },
    {
      "cell_type": "code",
      "metadata": {
        "id": "UIPTk-Mwi8iX",
        "colab_type": "code",
        "colab": {
          "base_uri": "https://localhost:8080/",
          "height": 255
        },
        "outputId": "4183b9df-92f2-41cb-da88-afa4058a45c2"
      },
      "source": [
        "clf = RandomForestClassifier(**nia_search.best_params_, random_state=42)\n",
        "\n",
        "clf.fit(X_train, y_train)\n",
        "\n",
        "y_pred = clf.predict(X_test)\n",
        "\n",
        "print(classification_report(y_test, y_pred, digits=4))"
      ],
      "execution_count": 15,
      "outputs": [
        {
          "output_type": "stream",
          "text": [
            "              precision    recall  f1-score   support\n",
            "\n",
            "           1     0.7946    0.7665    0.7803       424\n",
            "           2     0.8091    0.8711    0.8389       574\n",
            "           3     0.7340    0.8625    0.7931        80\n",
            "           4     1.0000    0.1429    0.2500         7\n",
            "           5     0.5000    0.0909    0.1538        11\n",
            "           6     0.6667    0.3077    0.4211        26\n",
            "           7     0.8462    0.5500    0.6667        40\n",
            "\n",
            "    accuracy                         0.7969      1162\n",
            "   macro avg     0.7644    0.5131    0.5577      1162\n",
            "weighted avg     0.7949    0.7969    0.7891      1162\n",
            "\n"
          ],
          "name": "stdout"
        }
      ]
    },
    {
      "cell_type": "markdown",
      "metadata": {
        "id": "Hx_C1P6lnIOB",
        "colab_type": "text"
      },
      "source": [
        "## Conclusion\n",
        "\n",
        "As we can see, the neature inspired search found the exectly same solution as the grid search in the shorter amount of time. If we decreased the number of runs for the nature inspired search, or decreased the population size, the duration might be shorter. However we might not find the most optimal solution in that case.\n",
        "\n",
        "| Algorithm | F1 Macro score  | Search duration |\n",
        "| ------------ |-------------:|-------------:|\n",
        "| GridSearchCV | 0.5577 | 2h 17min 48s |\n",
        "| NatureInspiredSearchCV | 0.5577 | 49min 41s |\n"
      ]
    }
  ]
}